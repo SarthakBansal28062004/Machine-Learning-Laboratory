{
 "cells": [
  {
   "cell_type": "markdown",
   "id": "74478c45-247d-48ca-8c2c-382f7a119b8c",
   "metadata": {},
   "source": [
    "Jupyter Notebook is an open-source web application that allows users to create and share documents containing live code, equations, visualizations, and text. It is particularly popular in data science, research, and education for interactive computing and data analysis.\n",
    "\n",
    "In essence, Jupyter Notebook offers a flexible and powerful environment for interactive computing, allowing users to combine code, text, and visualizations into dynamic and shareable documents, particularly beneficial for data analysis and scientific computing. "
   ]
  },
  {
   "cell_type": "code",
   "execution_count": null,
   "id": "f3823362-2c56-42b6-80b0-5098a62772a4",
   "metadata": {},
   "outputs": [],
   "source": [
    "print(\"Today, I am studying Jupyter Notebooks in Machine Learning class\")"
   ]
  },
  {
   "cell_type": "markdown",
   "id": "299ff313-0c92-44b7-aaaa-4cb7db9eddfd",
   "metadata": {},
   "source": [
    "# This is a level 1 Heading.\n",
    "## This is a Level 2 Heading.\n",
    "### This is a Level 3 Heading.\n",
    "\n",
    "Here's some text with **bold** formatting and some with *italic* formatting.\n",
    "You can also combine them to make text ***bold and italic***.\n",
    "\n",
    "## My Favorite Programming Languages\n",
    "- Python\n",
    "- JavaScript\n",
    "- Go\n",
    "- R\n",
    "\n",
    "Here is a hyperlink to the official [Jupyter website](https://jupyter.org).\n",
    "\n",
    "Below is an image of the Jupyter logo, inserted using Markdown syntax.\n",
    "![Jupyter Logo](https://jupyter.org/assets/share.png)"
   ]
  },
  {
   "cell_type": "code",
   "execution_count": null,
   "id": "44dc60c9-e34b-4d58-aeee-9ebc669438ba",
   "metadata": {},
   "outputs": [],
   "source": [
    "def factorial(n):\n",
    "    if not isinstance(n, int) or n < 0:\n",
    "        return \"Input must be a non-negative integer.\"\n",
    "    \n",
    "    if n == 0:\n",
    "        return 1\n",
    "    \n",
    "    else:\n",
    "        result = 1\n",
    "        for i in range(1, n + 1):\n",
    "            result *= i\n",
    "        return result\n",
    "\n",
    "print(f\"The factorial of 5 is: {factorial(5)}\")\n",
    "print(f\"The factorial of 7 is: {factorial(7)}\")\n",
    "print(f\"The factorial of 0 is: {factorial(0)}\")\n",
    "print(f\"Testing with a negative number: {factorial(-3)}\")"
   ]
  },
  {
   "cell_type": "code",
   "execution_count": null,
   "id": "b08fab6d-11f1-4208-96f3-8db7b42c0975",
   "metadata": {},
   "outputs": [],
   "source": [
    "import numpy as np\n",
    "data_points = [10, 20, 30, 40, 50, 60]\n",
    "mean_value = np.mean(data_points)\n",
    "median_value = np.median(data_points)\n",
    "print(\"\\n--- NumPy Operations ---\")\n",
    "print(f\"The sample data is: {data_points}\")\n",
    "print(f\"The mean of the data is: {mean_value}\")\n",
    "print(f\"The median of the data is: {median_value}\")"
   ]
  },
  {
   "cell_type": "code",
   "execution_count": null,
   "id": "594d4f08-5c52-456a-8add-501f4d5ef224",
   "metadata": {},
   "outputs": [],
   "source": [
    "import matplotlib.pyplot as plt\n",
    "\n",
    "x_values = np.linspace(0, 10, 100)\n",
    "y_values = np.sin(x_values)\n",
    "\n",
    "plt.figure(figsize=(10, 6))\n",
    "\n",
    "plt.plot(x_values, y_values, color='purple', linestyle='--', label='sin(x)')\n",
    "\n",
    "plt.title(\"Visualization of a Sine Wave\", fontsize=16)\n",
    "plt.xlabel(\"X-axis\", fontsize=12)\n",
    "plt.ylabel(\"Y-axis\", fontsize=12)\n",
    "plt.legend()\n",
    "plt.grid(True)\n",
    "\n",
    "plt.show()"
   ]
  },
  {
   "cell_type": "markdown",
   "id": "64b63b84-150e-4efa-ae4b-382e3c4e682e",
   "metadata": {},
   "source": [
    "### How to Manage Kernels in Jupyter Notebook\n",
    "Managing kernels is a key part of using Jupyter Notebooks. A kernel is the computational engine that executes the code in a notebook. It's the \"brain\" behind the scenes that runs your Python, R, or other language code. When you start a notebook, you're also starting a kernel, and any variables or imports you define are stored within that kernel's memory.\n",
    "\n",
    "### Switching and Using Different Kernels\n",
    "**Switching the Kernel:** To change the kernel, go to the top menu bar and select Kernel > Change kernel. A dropdown menu will appear showing the available kernels.\n",
    "\n",
    "**Using a New Kernel:** If you have other language kernels installed, like for R or Julia, you can select one from the list. Once you switch, all the code you write and execute will be run by that new kernel. For example, if you switch to an R kernel, you can now write and run R code in your cells instead of Python.\n",
    "\n",
    "**Running a Simple Command:** After switching, create a new code cell and run a simple command for that language. For instance, if you switched to an R kernel, you could run ***print(\"Hello from R!\")*** to see a different language in action.\n",
    "\n",
    "### Resetting the Kernel\n",
    "**Restarting the Kernel:** To reset the kernel and clear all outputs, go to Kernel > Restart & Clear Output.\n",
    "\n",
    "**Observing the Effect:** When you do this, the kernel's memory is completely wiped. Any variables you defined are gone, and all cell outputs disappear. You'll notice that the cell numbers In [ ] will reset. This is useful for starting a fresh session without closing and reopening your notebook.\n",
    "\n",
    "**Re-running Code:** If you want to use the variables and outputs again, you will need to re-run all the relevant cells in the notebook."
   ]
  },
  {
   "cell_type": "markdown",
   "id": "2a2a9b1a-0173-4c0e-b272-dcc2d1f69134",
   "metadata": {},
   "source": [
    "**PDF Export**\n",
    "PDF is ideal for creating a static, print-ready document. It's best used when you need to submit a formal report or an academic paper, as it preserves the layout of your notebook's code, outputs, and text in a clean, professional format that is difficult to alter.\n",
    "\n",
    "**HTML Export**\n",
    "HTML is perfect for sharing your work with others who may not have Jupyter Notebooks installed. The file is a self-contained web page that displays all the notebook's content, including formatted text and visualizations, in any web browser. It's a great way to showcase your project to a wider audience."
   ]
  },
  {
   "cell_type": "markdown",
   "id": "809c817b-bc7b-4694-8e43-3c49942780a6",
   "metadata": {},
   "source": [
    "Interactive widgets are UI elements (like sliders, buttons, text boxes) that can be used in Jupyter Notebooks to make your code more dynamic and interactive. They allow users to control variables and parameters without needing to edit the code directly.\n",
    "\n",
    "This makes notebooks powerful tools for demonstrations, dashboards, and exploring data. The most common library for this is `ipywidgets`.\n",
    "\n",
    "To use widgets, you must first install the library:\n",
    "***!pip install ipywidgets***\n",
    "\n",
    "And then enable the extension for classic notebooks:\n",
    "***!jupyter nbextension enable --py widgetsnbextension***\n",
    "\n",
    "You may need to restart your Jupyter server after installation."
   ]
  },
  {
   "cell_type": "code",
   "execution_count": null,
   "id": "3c0e6b64-9eeb-46a4-a6fd-332b4ca72acc",
   "metadata": {},
   "outputs": [],
   "source": [
    "!pip install --upgrade ipywidgets jupyterlab"
   ]
  },
  {
   "cell_type": "code",
   "execution_count": null,
   "id": "971661fc-7dbd-4e7a-9d43-7c12b151be56",
   "metadata": {},
   "outputs": [],
   "source": [
    "!jupyter labextension install @jupyter-widgets/jupyterlab-manager"
   ]
  },
  {
   "cell_type": "code",
   "execution_count": null,
   "id": "6540d422-98ca-492d-923d-fde84d653b09",
   "metadata": {},
   "outputs": [],
   "source": [
    "!pip install ipywidgets jupyter_contrib_nbextensions\n",
    "!jupyter nbextension enable --py widgetsnbextension"
   ]
  },
  {
   "cell_type": "code",
   "execution_count": 1,
   "id": "f0f36862-621e-4bad-aafb-e633ed2ed9b8",
   "metadata": {},
   "outputs": [
    {
     "name": "stdout",
     "output_type": "stream",
     "text": [
      "Move the slider below to change the frequency of the sine wave:\n"
     ]
    },
    {
     "data": {
      "application/vnd.jupyter.widget-view+json": {
       "model_id": "2c6882f0e86c49fa9eacc2f79764863a",
       "version_major": 2,
       "version_minor": 0
      },
      "text/plain": [
       "interactive(children=(IntSlider(value=1, description='frequency', max=10, min=1), Output()), _dom_classes=('wi…"
      ]
     },
     "metadata": {},
     "output_type": "display_data"
    }
   ],
   "source": [
    "from ipywidgets import interact, IntSlider\n",
    "import matplotlib.pyplot as plt\n",
    "import numpy as np\n",
    "\n",
    "def plot_sine_wave(frequency):\n",
    "    \n",
    "    x = np.linspace(0, 2 * np.pi, 200)\n",
    "    y = np.sin(frequency * x)\n",
    "\n",
    "    plt.clf()\n",
    "\n",
    "    plt.figure(figsize=(8, 4))\n",
    "    plt.plot(x, y, color='blue')\n",
    "\n",
    "    plt.title(f\"Interactive Sine Wave with Frequency: {frequency}\")\n",
    "    plt.xlabel(\"X-axis\")\n",
    "    plt.ylabel(\"Y-axis\")\n",
    "\n",
    "    plt.grid(True)\n",
    "\n",
    "    plt.show()\n",
    "\n",
    "print(\"Move the slider below to change the frequency of the sine wave:\")\n",
    "interact(plot_sine_wave, frequency=IntSlider(min=1, max=10, step=1, value=1));"
   ]
  },
  {
   "cell_type": "code",
   "execution_count": null,
   "id": "3ac67feb-08a5-45f9-afee-0ec8a93123ed",
   "metadata": {},
   "outputs": [],
   "source": []
  }
 ],
 "metadata": {
  "kernelspec": {
   "display_name": "Python [conda env:base] *",
   "language": "python",
   "name": "conda-base-py"
  },
  "language_info": {
   "codemirror_mode": {
    "name": "ipython",
    "version": 3
   },
   "file_extension": ".py",
   "mimetype": "text/x-python",
   "name": "python",
   "nbconvert_exporter": "python",
   "pygments_lexer": "ipython3",
   "version": "3.13.5"
  }
 },
 "nbformat": 4,
 "nbformat_minor": 5
}
